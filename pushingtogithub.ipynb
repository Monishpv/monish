{
  "nbformat": 4,
  "nbformat_minor": 0,
  "metadata": {
    "colab": {
      "provenance": [],
      "collapsed_sections": [],
      "authorship_tag": "ABX9TyNUsljQIB9jVR6eaaEMgprP",
      "include_colab_link": true
    },
    "kernelspec": {
      "name": "python3",
      "display_name": "Python 3"
    },
    "language_info": {
      "name": "python"
    }
  },
  "cells": [
    {
      "cell_type": "markdown",
      "metadata": {
        "id": "view-in-github",
        "colab_type": "text"
      },
      "source": [
        "<a href=\"https://colab.research.google.com/github/Monishpv/monish/blob/main/pushingtogithub.ipynb\" target=\"_parent\"><img src=\"https://colab.research.google.com/assets/colab-badge.svg\" alt=\"Open In Colab\"/></a>"
      ]
    },
    {
      "cell_type": "markdown",
      "source": [
        "importing the libraries"
      ],
      "metadata": {
        "id": "TM6Ox9GJfAku"
      }
    },
    {
      "cell_type": "code",
      "execution_count": null,
      "metadata": {
        "id": "wsoR37hreo-q"
      },
      "outputs": [],
      "source": [
        "#importing the libraries\n",
        "import numpy as np\n",
        "import pandas as pd\n",
        "import matplotlib.pyplot as plt\n",
        "from sklearn.impute import SimpleImputer\n",
        "\n"
      ]
    },
    {
      "cell_type": "markdown",
      "source": [
        "importing the data "
      ],
      "metadata": {
        "id": "lz1akV22fLQ6"
      }
    },
    {
      "cell_type": "code",
      "source": [
        "data= pd.read_csv('Data.csv')\n",
        "x= data.iloc[:,:-1].values\n",
        "y= data.iloc[:,-1].values\n",
        "print(x)\n",
        "print(y)\n"
      ],
      "metadata": {
        "colab": {
          "base_uri": "https://localhost:8080/"
        },
        "id": "bXUDUa0ifOzG",
        "outputId": "11fbfcc9-9901-485f-9301-00662671d331"
      },
      "execution_count": null,
      "outputs": [
        {
          "output_type": "stream",
          "name": "stdout",
          "text": [
            "[['France' 44.0 72000.0]\n",
            " ['Spain' 27.0 48000.0]\n",
            " ['Germany' 30.0 54000.0]\n",
            " ['Spain' 38.0 61000.0]\n",
            " ['Germany' 40.0 nan]\n",
            " ['France' 35.0 58000.0]\n",
            " ['Spain' nan 52000.0]\n",
            " ['France' 48.0 79000.0]\n",
            " ['Germany' 50.0 83000.0]\n",
            " ['France' 37.0 67000.0]]\n",
            "['No' 'Yes' 'No' 'No' 'Yes' 'Yes' 'No' 'Yes' 'No' 'Yes']\n"
          ]
        }
      ]
    },
    {
      "cell_type": "markdown",
      "source": [
        "filling the missing values"
      ],
      "metadata": {
        "id": "cMd7s8s6fiEJ"
      }
    },
    {
      "cell_type": "code",
      "source": [
        "imputer= SimpleImputer(missing_values=np.NaN, strategy='mean')\n",
        "imputer.fit(x[:,1:3])\n",
        "x[:,1:3]= imputer.transform(x[:,1:3]) \n",
        "print(x)\n"
      ],
      "metadata": {
        "colab": {
          "base_uri": "https://localhost:8080/"
        },
        "id": "Ws9nhzrVfqT0",
        "outputId": "020427bc-76e8-472b-ed23-a4132408fa1e"
      },
      "execution_count": null,
      "outputs": [
        {
          "output_type": "stream",
          "name": "stdout",
          "text": [
            "[['France' 44.0 72000.0]\n",
            " ['Spain' 27.0 48000.0]\n",
            " ['Germany' 30.0 54000.0]\n",
            " ['Spain' 38.0 61000.0]\n",
            " ['Germany' 40.0 63777.77777777778]\n",
            " ['France' 35.0 58000.0]\n",
            " ['Spain' 38.77777777777778 52000.0]\n",
            " ['France' 48.0 79000.0]\n",
            " ['Germany' 50.0 83000.0]\n",
            " ['France' 37.0 67000.0]]\n"
          ]
        }
      ]
    },
    {
      "cell_type": "markdown",
      "source": [
        "encoding the missing values "
      ],
      "metadata": {
        "id": "dEqwCrjaf0Hj"
      }
    },
    {
      "cell_type": "code",
      "source": [
        "from sklearn.compose import ColumnTransformer\n",
        "from sklearn.preprocessing import OneHotEncoder\n",
        "\n",
        "ct = ColumnTransformer(transformers= [('encoders', OneHotEncoder(), [0])], remainder= 'passthrough')\n",
        "x= np.array(ct.fit_transform(x))\n",
        "print(x)\n",
        "\n"
      ],
      "metadata": {
        "colab": {
          "base_uri": "https://localhost:8080/"
        },
        "id": "XoSA86qnf6dd",
        "outputId": "01d21735-7225-4288-f074-6db4df1116e8"
      },
      "execution_count": null,
      "outputs": [
        {
          "output_type": "stream",
          "name": "stdout",
          "text": [
            "[[1.0 0.0 0.0 44.0 72000.0]\n",
            " [0.0 0.0 1.0 27.0 48000.0]\n",
            " [0.0 1.0 0.0 30.0 54000.0]\n",
            " [0.0 0.0 1.0 38.0 61000.0]\n",
            " [0.0 1.0 0.0 40.0 63777.77777777778]\n",
            " [1.0 0.0 0.0 35.0 58000.0]\n",
            " [0.0 0.0 1.0 38.77777777777778 52000.0]\n",
            " [1.0 0.0 0.0 48.0 79000.0]\n",
            " [0.0 1.0 0.0 50.0 83000.0]\n",
            " [1.0 0.0 0.0 37.0 67000.0]]\n"
          ]
        }
      ]
    },
    {
      "cell_type": "markdown",
      "source": [
        "encoding independent values "
      ],
      "metadata": {
        "id": "0jHIZnIZgFU5"
      }
    },
    {
      "cell_type": "code",
      "source": [
        "from pandas.core.arrays.interval import le\n",
        "from sklearn.preprocessing import LabelEncoder\n",
        "\n",
        "le= LabelEncoder()\n",
        "y= le.fit_transform(y)\n",
        "print(y)"
      ],
      "metadata": {
        "colab": {
          "base_uri": "https://localhost:8080/"
        },
        "id": "na9-CcfggLLn",
        "outputId": "b944fbfa-8327-417d-d62d-ccdf73780028"
      },
      "execution_count": null,
      "outputs": [
        {
          "output_type": "stream",
          "name": "stdout",
          "text": [
            "[0 1 0 0 1 1 0 1 0 1]\n"
          ]
        }
      ]
    },
    {
      "cell_type": "markdown",
      "source": [
        "TrainSet and TestSet Splitting"
      ],
      "metadata": {
        "id": "ohvo5i0tgdKK"
      }
    },
    {
      "cell_type": "code",
      "source": [
        "from sklearn.model_selection import train_test_split\n",
        "x_train, x_test, y_train, y_test= train_test_split(x,y,test_size=2, random_state= 1)\n",
        "print(x_train)\n",
        "print(x_test)\n",
        "print(y_train)\n",
        "print(y_test)"
      ],
      "metadata": {
        "colab": {
          "base_uri": "https://localhost:8080/"
        },
        "id": "CUowVdUHgcY1",
        "outputId": "403dcb49-2ed4-4a49-971f-49e6ae8ba647"
      },
      "execution_count": null,
      "outputs": [
        {
          "output_type": "stream",
          "name": "stdout",
          "text": [
            "[[0.0 0.0 1.0 38.77777777777778 52000.0]\n",
            " [0.0 1.0 0.0 40.0 63777.77777777778]\n",
            " [1.0 0.0 0.0 44.0 72000.0]\n",
            " [0.0 0.0 1.0 38.0 61000.0]\n",
            " [0.0 0.0 1.0 27.0 48000.0]\n",
            " [1.0 0.0 0.0 48.0 79000.0]\n",
            " [0.0 1.0 0.0 50.0 83000.0]\n",
            " [1.0 0.0 0.0 35.0 58000.0]]\n",
            "[[0.0 1.0 0.0 30.0 54000.0]\n",
            " [1.0 0.0 0.0 37.0 67000.0]]\n",
            "[0 1 0 0 1 1 0 1]\n",
            "[0 1]\n"
          ]
        }
      ]
    },
    {
      "cell_type": "markdown",
      "source": [
        "feature scaling "
      ],
      "metadata": {
        "id": "FGS0HJb3g260"
      }
    },
    {
      "cell_type": "code",
      "source": [
        "from sklearn.preprocessing import StandardScaler\n",
        "sc= StandardScaler()\n",
        "x_train[:,3:]= sc.fit_transform\n",
        "(x_train[:,3:])\n",
        "x_test[:,3:]=sc.transform\n",
        "(x_test[:,3:])\n",
        "print(x_train)\n",
        "print(x_test)\n"
      ],
      "metadata": {
        "colab": {
          "base_uri": "https://localhost:8080/"
        },
        "id": "8B2nOtYdg6AM",
        "outputId": "b1635836-98b1-439b-d009-fdf346339111"
      },
      "execution_count": null,
      "outputs": [
        {
          "output_type": "stream",
          "name": "stdout",
          "text": [
            "[[0.0 0.0 1.0\n",
            "  <bound method TransformerMixin.fit_transform of StandardScaler()>\n",
            "  <bound method TransformerMixin.fit_transform of StandardScaler()>]\n",
            " [0.0 1.0 0.0\n",
            "  <bound method TransformerMixin.fit_transform of StandardScaler()>\n",
            "  <bound method TransformerMixin.fit_transform of StandardScaler()>]\n",
            " [1.0 0.0 0.0\n",
            "  <bound method TransformerMixin.fit_transform of StandardScaler()>\n",
            "  <bound method TransformerMixin.fit_transform of StandardScaler()>]\n",
            " [0.0 0.0 1.0\n",
            "  <bound method TransformerMixin.fit_transform of StandardScaler()>\n",
            "  <bound method TransformerMixin.fit_transform of StandardScaler()>]\n",
            " [0.0 0.0 1.0\n",
            "  <bound method TransformerMixin.fit_transform of StandardScaler()>\n",
            "  <bound method TransformerMixin.fit_transform of StandardScaler()>]\n",
            " [1.0 0.0 0.0\n",
            "  <bound method TransformerMixin.fit_transform of StandardScaler()>\n",
            "  <bound method TransformerMixin.fit_transform of StandardScaler()>]\n",
            " [0.0 1.0 0.0\n",
            "  <bound method TransformerMixin.fit_transform of StandardScaler()>\n",
            "  <bound method TransformerMixin.fit_transform of StandardScaler()>]\n",
            " [1.0 0.0 0.0\n",
            "  <bound method TransformerMixin.fit_transform of StandardScaler()>\n",
            "  <bound method TransformerMixin.fit_transform of StandardScaler()>]]\n",
            "[[0.0 1.0 0.0 <bound method StandardScaler.transform of StandardScaler()>\n",
            "  <bound method StandardScaler.transform of StandardScaler()>]\n",
            " [1.0 0.0 0.0 <bound method StandardScaler.transform of StandardScaler()>\n",
            "  <bound method StandardScaler.transform of StandardScaler()>]]\n"
          ]
        }
      ]
    },
    {
      "cell_type": "code",
      "source": [],
      "metadata": {
        "id": "LHt5DkyShdxz"
      },
      "execution_count": null,
      "outputs": []
    }
  ]
}