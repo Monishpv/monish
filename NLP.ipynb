{
  "nbformat": 4,
  "nbformat_minor": 0,
  "metadata": {
    "colab": {
      "provenance": [],
      "authorship_tag": "ABX9TyOLYuDWMHRT+LSTGyTVS1Xo",
      "include_colab_link": true
    },
    "kernelspec": {
      "name": "python3",
      "display_name": "Python 3"
    },
    "language_info": {
      "name": "python"
    }
  },
  "cells": [
    {
      "cell_type": "markdown",
      "metadata": {
        "id": "view-in-github",
        "colab_type": "text"
      },
      "source": [
        "<a href=\"https://colab.research.google.com/github/Monishpv/monish/blob/main/NLP.ipynb\" target=\"_parent\"><img src=\"https://colab.research.google.com/assets/colab-badge.svg\" alt=\"Open In Colab\"/></a>"
      ]
    },
    {
      "cell_type": "code",
      "execution_count": 1,
      "metadata": {
        "colab": {
          "base_uri": "https://localhost:8080/"
        },
        "id": "Y5bb-AuqdzGi",
        "outputId": "869b4dac-2abc-4d64-9e2a-38bd05143f8a"
      },
      "outputs": [
        {
          "output_type": "stream",
          "name": "stderr",
          "text": [
            "[nltk_data] Downloading package punkt to /root/nltk_data...\n",
            "[nltk_data]   Unzipping tokenizers/punkt.zip.\n",
            "[nltk_data] Downloading package stopwords to /root/nltk_data...\n",
            "[nltk_data]   Unzipping corpora/stopwords.zip.\n",
            "[nltk_data] Downloading package wordnet to /root/nltk_data...\n",
            "[nltk_data] Downloading package omw-1.4 to /root/nltk_data...\n"
          ]
        },
        {
          "output_type": "execute_result",
          "data": {
            "text/plain": [
              "True"
            ]
          },
          "metadata": {},
          "execution_count": 1
        }
      ],
      "source": [
        "import nltk \n",
        "from nltk.stem import PorterStemmer\n",
        "from nltk.corpus import stopwords\n",
        "from nltk.stem import WordNetLemmatizer\n",
        "nltk.download('punkt')\n",
        "nltk.download('stopwords')\n",
        "nltk.download('wordnet')\n",
        "nltk.download('omw-1.4')"
      ]
    },
    {
      "cell_type": "code",
      "source": [
        "paragraph = \"\"\"Mahendra Singh Dhoni born 7 July 1981) is an Indian former international cricketer who was captain of the Indian national cricket team in limited-overs formats from 2007 to 2017 and in Test cricket from 2008 to 2014. He is also the current captain of CSK in the IPL. He led India to victory in three ICC trophies 2007 ICC World Twenty20, 2011 Cricket World Cup and 2013 ICC Champions Trophy, the most by any Indian captain. Under his captaincy India also won 2010 and 2016 Asia Cup. Also under his leadership India won 2010 and 2011 ICC Test Mace and 2013 ICC ODI Championship. A right-handed wicket-keeper batsman.[2] He scored over 10,000 runs in One Day Internationals, with the reputation as one of the best finishers in the game. He is also one of the greatest wicket-keepers in the history of cricket.In Indian domestic cricket he played for Bihar and Jharkhand Cricket team. He is the captain of Chennai Super Kings (CSK) in the Indian Premier League. He captained the side to championships in the 2010, 2011, 2018 and 2021 editions of IPL league. Also under his captaincy Chennai Super Kings (CSK) Won Champions League T20 two times, in 2010 and 2014.\n",
        "Dhoni made his ODI debut on 23 December 2004, against Bangladesh in Chittagong,[3] and played his first Test a year later against Sri Lanka.[4] He played his first T20I also a year later against South Africa.[5] In 2007, he took over the ODI captaincy from Rahul Dravid and he also selected as T20I captain of India in this year.[6] In 2008, he was selected as Test captain.[7] His captaincy record in Tests format was mixed, successfully leading India to a series win against New Zealand in 2008 and the Border-Gavaskar Trophy (home series in 2010 and 2013) against Australia while losing to Sri Lanka, Australia, England, and South Africa by big margins in away conditions.[8]\n",
        "He announced his retirement from Tests on 30 December 2014,[9] and stepped down as captain of T20Is and ODIs in 2017. On 15 August 2020, Dhoni retired from all formats of international cricket and continues to play in the IPL.[10][11]\n",
        "Dhoni received India's highest sports honour, the Major Dhyanchand Khel Ratna Award in 2008 for his outstanding achievements and the Government of India honoured him India's fourth civilian award Padma Shri in 2009 and third civilian award Padma Bhushan in 2018. He is the only cricket captain in the world to win all three of the Cricket World Cup, ICC Men's T20 World Cup and ICC Champions Trophy.\"\"\"\n"
      ],
      "metadata": {
        "id": "6b1ScT9qd5ux"
      },
      "execution_count": 2,
      "outputs": []
    },
    {
      "cell_type": "code",
      "source": [
        "sentences = nltk.sent_tokenize(paragraph)\n",
        "words  = nltk.word_tokenize(paragraph)\n",
        "print(sentences)\n",
        "print(words)"
      ],
      "metadata": {
        "colab": {
          "base_uri": "https://localhost:8080/"
        },
        "id": "QzlLGieG4__T",
        "outputId": "c6530e0a-c462-4761-fcda-5c7e5b18f93f"
      },
      "execution_count": 3,
      "outputs": [
        {
          "output_type": "stream",
          "name": "stdout",
          "text": [
            "['Mahendra Singh Dhoni born 7 July 1981) is an Indian former international cricketer who was captain of the Indian national cricket team in limited-overs formats from 2007 to 2017 and in Test cricket from 2008 to 2014.', 'He is also the current captain of CSK in the IPL.', 'He led India to victory in three ICC trophies 2007 ICC World Twenty20, 2011 Cricket World Cup and 2013 ICC Champions Trophy, the most by any Indian captain.', 'Under his captaincy India also won 2010 and 2016 Asia Cup.', 'Also under his leadership India won 2010 and 2011 ICC Test Mace and 2013 ICC ODI Championship.', 'A right-handed wicket-keeper batsman.', '[2] He scored over 10,000 runs in One Day Internationals, with the reputation as one of the best finishers in the game.', 'He is also one of the greatest wicket-keepers in the history of cricket.In Indian domestic cricket he played for Bihar and Jharkhand Cricket team.', 'He is the captain of Chennai Super Kings (CSK) in the Indian Premier League.', 'He captained the side to championships in the 2010, 2011, 2018 and 2021 editions of IPL league.', 'Also under his captaincy Chennai Super Kings (CSK) Won Champions League T20 two times, in 2010 and 2014.', 'Dhoni made his ODI debut on 23 December 2004, against Bangladesh in Chittagong,[3] and played his first Test a year later against Sri Lanka.', '[4] He played his first T20I also a year later against South Africa.', '[5] In 2007, he took over the ODI captaincy from Rahul Dravid and he also selected as T20I captain of India in this year.', '[6] In 2008, he was selected as Test captain.', '[7] His captaincy record in Tests format was mixed, successfully leading India to a series win against New Zealand in 2008 and the Border-Gavaskar Trophy (home series in 2010 and 2013) against Australia while losing to Sri Lanka, Australia, England, and South Africa by big margins in away conditions.', '[8]\\nHe announced his retirement from Tests on 30 December 2014,[9] and stepped down as captain of T20Is and ODIs in 2017.', 'On 15 August 2020, Dhoni retired from all formats of international cricket and continues to play in the IPL.', \"[10][11]\\nDhoni received India's highest sports honour, the Major Dhyanchand Khel Ratna Award in 2008 for his outstanding achievements and the Government of India honoured him India's fourth civilian award Padma Shri in 2009 and third civilian award Padma Bhushan in 2018.\", \"He is the only cricket captain in the world to win all three of the Cricket World Cup, ICC Men's T20 World Cup and ICC Champions Trophy.\"]\n",
            "['Mahendra', 'Singh', 'Dhoni', 'born', '7', 'July', '1981', ')', 'is', 'an', 'Indian', 'former', 'international', 'cricketer', 'who', 'was', 'captain', 'of', 'the', 'Indian', 'national', 'cricket', 'team', 'in', 'limited-overs', 'formats', 'from', '2007', 'to', '2017', 'and', 'in', 'Test', 'cricket', 'from', '2008', 'to', '2014', '.', 'He', 'is', 'also', 'the', 'current', 'captain', 'of', 'CSK', 'in', 'the', 'IPL', '.', 'He', 'led', 'India', 'to', 'victory', 'in', 'three', 'ICC', 'trophies', '2007', 'ICC', 'World', 'Twenty20', ',', '2011', 'Cricket', 'World', 'Cup', 'and', '2013', 'ICC', 'Champions', 'Trophy', ',', 'the', 'most', 'by', 'any', 'Indian', 'captain', '.', 'Under', 'his', 'captaincy', 'India', 'also', 'won', '2010', 'and', '2016', 'Asia', 'Cup', '.', 'Also', 'under', 'his', 'leadership', 'India', 'won', '2010', 'and', '2011', 'ICC', 'Test', 'Mace', 'and', '2013', 'ICC', 'ODI', 'Championship', '.', 'A', 'right-handed', 'wicket-keeper', 'batsman', '.', '[', '2', ']', 'He', 'scored', 'over', '10,000', 'runs', 'in', 'One', 'Day', 'Internationals', ',', 'with', 'the', 'reputation', 'as', 'one', 'of', 'the', 'best', 'finishers', 'in', 'the', 'game', '.', 'He', 'is', 'also', 'one', 'of', 'the', 'greatest', 'wicket-keepers', 'in', 'the', 'history', 'of', 'cricket.In', 'Indian', 'domestic', 'cricket', 'he', 'played', 'for', 'Bihar', 'and', 'Jharkhand', 'Cricket', 'team', '.', 'He', 'is', 'the', 'captain', 'of', 'Chennai', 'Super', 'Kings', '(', 'CSK', ')', 'in', 'the', 'Indian', 'Premier', 'League', '.', 'He', 'captained', 'the', 'side', 'to', 'championships', 'in', 'the', '2010', ',', '2011', ',', '2018', 'and', '2021', 'editions', 'of', 'IPL', 'league', '.', 'Also', 'under', 'his', 'captaincy', 'Chennai', 'Super', 'Kings', '(', 'CSK', ')', 'Won', 'Champions', 'League', 'T20', 'two', 'times', ',', 'in', '2010', 'and', '2014', '.', 'Dhoni', 'made', 'his', 'ODI', 'debut', 'on', '23', 'December', '2004', ',', 'against', 'Bangladesh', 'in', 'Chittagong', ',', '[', '3', ']', 'and', 'played', 'his', 'first', 'Test', 'a', 'year', 'later', 'against', 'Sri', 'Lanka', '.', '[', '4', ']', 'He', 'played', 'his', 'first', 'T20I', 'also', 'a', 'year', 'later', 'against', 'South', 'Africa', '.', '[', '5', ']', 'In', '2007', ',', 'he', 'took', 'over', 'the', 'ODI', 'captaincy', 'from', 'Rahul', 'Dravid', 'and', 'he', 'also', 'selected', 'as', 'T20I', 'captain', 'of', 'India', 'in', 'this', 'year', '.', '[', '6', ']', 'In', '2008', ',', 'he', 'was', 'selected', 'as', 'Test', 'captain', '.', '[', '7', ']', 'His', 'captaincy', 'record', 'in', 'Tests', 'format', 'was', 'mixed', ',', 'successfully', 'leading', 'India', 'to', 'a', 'series', 'win', 'against', 'New', 'Zealand', 'in', '2008', 'and', 'the', 'Border-Gavaskar', 'Trophy', '(', 'home', 'series', 'in', '2010', 'and', '2013', ')', 'against', 'Australia', 'while', 'losing', 'to', 'Sri', 'Lanka', ',', 'Australia', ',', 'England', ',', 'and', 'South', 'Africa', 'by', 'big', 'margins', 'in', 'away', 'conditions', '.', '[', '8', ']', 'He', 'announced', 'his', 'retirement', 'from', 'Tests', 'on', '30', 'December', '2014', ',', '[', '9', ']', 'and', 'stepped', 'down', 'as', 'captain', 'of', 'T20Is', 'and', 'ODIs', 'in', '2017', '.', 'On', '15', 'August', '2020', ',', 'Dhoni', 'retired', 'from', 'all', 'formats', 'of', 'international', 'cricket', 'and', 'continues', 'to', 'play', 'in', 'the', 'IPL', '.', '[', '10', ']', '[', '11', ']', 'Dhoni', 'received', 'India', \"'s\", 'highest', 'sports', 'honour', ',', 'the', 'Major', 'Dhyanchand', 'Khel', 'Ratna', 'Award', 'in', '2008', 'for', 'his', 'outstanding', 'achievements', 'and', 'the', 'Government', 'of', 'India', 'honoured', 'him', 'India', \"'s\", 'fourth', 'civilian', 'award', 'Padma', 'Shri', 'in', '2009', 'and', 'third', 'civilian', 'award', 'Padma', 'Bhushan', 'in', '2018', '.', 'He', 'is', 'the', 'only', 'cricket', 'captain', 'in', 'the', 'world', 'to', 'win', 'all', 'three', 'of', 'the', 'Cricket', 'World', 'Cup', ',', 'ICC', 'Men', \"'s\", 'T20', 'World', 'Cup', 'and', 'ICC', 'Champions', 'Trophy', '.']\n"
          ]
        }
      ]
    },
    {
      "cell_type": "code",
      "source": [
        "from nltk.stem import PorterStemmer\n",
        "from nltk.corpus import stopwords\n",
        "paragraph = \"\"\"Mahendra Singh Dhoni born 7 July 1981) is an Indian former international cricketer who was captain of the Indian national cricket team in limited-overs formats from 2007 to 2017 and in Test cricket from 2008 to 2014. He is also the current captain of CSK in the IPL. He led India to victory in three ICC trophies 2007 ICC World Twenty20, 2011 Cricket World Cup and 2013 ICC Champions Trophy, the most by any Indian captain. Under his captaincy India also won 2010 and 2016 Asia Cup. Also under his leadership India won 2010 and 2011 ICC Test Mace and 2013 ICC ODI Championship. A right-handed wicket-keeper batsman.[2] He scored over 10,000 runs in One Day Internationals, with the reputation as one of the best finishers in the game. He is also one of the greatest wicket-keepers in the history of cricket.In Indian domestic cricket he played for Bihar and Jharkhand Cricket team. He is the captain of Chennai Super Kings (CSK) in the Indian Premier League. He captained the side to championships in the 2010, 2011, 2018 and 2021 editions of IPL league. Also under his captaincy Chennai Super Kings (CSK) Won Champions League T20 two times, in 2010 and 2014.\n",
        "Dhoni made his ODI debut on 23 December 2004, against Bangladesh in Chittagong,[3] and played his first Test a year later against Sri Lanka.[4] He played his first T20I also a year later against South Africa.[5] In 2007, he took over the ODI captaincy from Rahul Dravid and he also selected as T20I captain of India in this year.[6] In 2008, he was selected as Test captain.[7] His captaincy record in Tests format was mixed, successfully leading India to a series win against New Zealand in 2008 and the Border-Gavaskar Trophy (home series in 2010 and 2013) against Australia while losing to Sri Lanka, Australia, England, and South Africa by big margins in away conditions.[8]\n",
        "He announced his retirement from Tests on 30 December 2014,[9] and stepped down as captain of T20Is and ODIs in 2017. On 15 August 2020, Dhoni retired from all formats of international cricket and continues to play in the IPL.[10][11]\n",
        "Dhoni received India's highest sports honour, the Major Dhyanchand Khel Ratna Award in 2008 for his outstanding achievements and the Government of India honoured him India's fourth civilian award Padma Shri in 2009 and third civilian award Padma Bhushan in 2018. He is the only cricket captain in the world to win all three of the Cricket World Cup, ICC Men's T20 World Cup and ICC Champions Trophy.\"\"\"\n",
        "\n",
        "sentences = nltk.sent_tokenize(paragraph)\n",
        "stemmer = PorterStemmer()\n",
        "for i in range(len(sentences)):\n",
        "  words = nltk.word_tokenize(sentences[i])\n",
        "  words = [stemmer.stem(words)for words in words if words not in set(stopwords.words('english'))]\n",
        "  sentences[i]=' '.join(words)\n",
        "print(sentences)\n"
      ],
      "metadata": {
        "colab": {
          "base_uri": "https://localhost:8080/"
        },
        "id": "3PNR51N1z20J",
        "outputId": "63774cfd-b612-4122-96e2-53b6cc4548e9"
      },
      "execution_count": 4,
      "outputs": [
        {
          "output_type": "stream",
          "name": "stdout",
          "text": [
            "['mahendra singh dhoni born 7 juli 1981 ) indian former intern cricket captain indian nation cricket team limited-ov format 2007 2017 test cricket 2008 2014 .', 'he also current captain csk ipl .', 'he led india victori three icc trophi 2007 icc world twenty20 , 2011 cricket world cup 2013 icc champion trophi , indian captain .', 'under captainci india also 2010 2016 asia cup .', 'also leadership india 2010 2011 icc test mace 2013 icc odi championship .', 'a right-hand wicket-keep batsman .', '[ 2 ] he score 10,000 run one day intern , reput one best finish game .', 'he also one greatest wicket-keep histori cricket.in indian domest cricket play bihar jharkhand cricket team .', 'he captain chennai super king ( csk ) indian premier leagu .', 'he captain side championship 2010 , 2011 , 2018 2021 edit ipl leagu .', 'also captainci chennai super king ( csk ) won champion leagu t20 two time , 2010 2014 .', 'dhoni made odi debut 23 decemb 2004 , bangladesh chittagong , [ 3 ] play first test year later sri lanka .', '[ 4 ] he play first t20i also year later south africa .', '[ 5 ] in 2007 , took odi captainci rahul dravid also select t20i captain india year .', '[ 6 ] in 2008 , select test captain .', '[ 7 ] hi captainci record test format mix , success lead india seri win new zealand 2008 border-gavaskar trophi ( home seri 2010 2013 ) australia lose sri lanka , australia , england , south africa big margin away condit .', '[ 8 ] he announc retir test 30 decemb 2014 , [ 9 ] step captain t20i odi 2017 .', 'on 15 august 2020 , dhoni retir format intern cricket continu play ipl .', \"[ 10 ] [ 11 ] dhoni receiv india 's highest sport honour , major dhyanchand khel ratna award 2008 outstand achiev govern india honour india 's fourth civilian award padma shri 2009 third civilian award padma bhushan 2018 .\", \"he cricket captain world win three cricket world cup , icc men 's t20 world cup icc champion trophi .\"]\n"
          ]
        }
      ]
    },
    {
      "cell_type": "code",
      "source": [
        "\n",
        "from nltk.stem import WordNetLemmatizer\n",
        "nltk.download('omw-1.4')\n",
        "nltk.download('wordnet')\n",
        "from nltk.corpus import stopwords\n",
        "sentences = nltk.sent_tokenize(paragraph)\n",
        "lemmatizer = WordNetLemmatizer()\n",
        "for i in range(len(sentences)):\n",
        "  words = nltk.word_tokenize(sentences[i])\n",
        "  words = [lemmatizer.lemmatize(words)for words in words if words not in set(stopwords.words('english'))]\n",
        "  sentences[i]=' '.join(words)\n",
        "print(sentences)"
      ],
      "metadata": {
        "id": "-MMOH_iR15TC",
        "colab": {
          "base_uri": "https://localhost:8080/"
        },
        "outputId": "200d19bb-02af-49bb-ee03-105e1eff00cf"
      },
      "execution_count": 5,
      "outputs": [
        {
          "output_type": "stream",
          "name": "stderr",
          "text": [
            "[nltk_data] Downloading package omw-1.4 to /root/nltk_data...\n",
            "[nltk_data]   Package omw-1.4 is already up-to-date!\n",
            "[nltk_data] Downloading package wordnet to /root/nltk_data...\n",
            "[nltk_data]   Package wordnet is already up-to-date!\n"
          ]
        },
        {
          "output_type": "stream",
          "name": "stdout",
          "text": [
            "['Mahendra Singh Dhoni born 7 July 1981 ) Indian former international cricketer captain Indian national cricket team limited-overs format 2007 2017 Test cricket 2008 2014 .', 'He also current captain CSK IPL .', 'He led India victory three ICC trophy 2007 ICC World Twenty20 , 2011 Cricket World Cup 2013 ICC Champions Trophy , Indian captain .', 'Under captaincy India also 2010 2016 Asia Cup .', 'Also leadership India 2010 2011 ICC Test Mace 2013 ICC ODI Championship .', 'A right-handed wicket-keeper batsman .', '[ 2 ] He scored 10,000 run One Day Internationals , reputation one best finisher game .', 'He also one greatest wicket-keeper history cricket.In Indian domestic cricket played Bihar Jharkhand Cricket team .', 'He captain Chennai Super Kings ( CSK ) Indian Premier League .', 'He captained side championship 2010 , 2011 , 2018 2021 edition IPL league .', 'Also captaincy Chennai Super Kings ( CSK ) Won Champions League T20 two time , 2010 2014 .', 'Dhoni made ODI debut 23 December 2004 , Bangladesh Chittagong , [ 3 ] played first Test year later Sri Lanka .', '[ 4 ] He played first T20I also year later South Africa .', '[ 5 ] In 2007 , took ODI captaincy Rahul Dravid also selected T20I captain India year .', '[ 6 ] In 2008 , selected Test captain .', '[ 7 ] His captaincy record Tests format mixed , successfully leading India series win New Zealand 2008 Border-Gavaskar Trophy ( home series 2010 2013 ) Australia losing Sri Lanka , Australia , England , South Africa big margin away condition .', '[ 8 ] He announced retirement Tests 30 December 2014 , [ 9 ] stepped captain T20Is ODIs 2017 .', 'On 15 August 2020 , Dhoni retired format international cricket continues play IPL .', \"[ 10 ] [ 11 ] Dhoni received India 's highest sport honour , Major Dhyanchand Khel Ratna Award 2008 outstanding achievement Government India honoured India 's fourth civilian award Padma Shri 2009 third civilian award Padma Bhushan 2018 .\", \"He cricket captain world win three Cricket World Cup , ICC Men 's T20 World Cup ICC Champions Trophy .\"]\n"
          ]
        }
      ]
    },
    {
      "cell_type": "code",
      "source": [],
      "metadata": {
        "id": "GX8P_Sxu7WVM"
      },
      "execution_count": null,
      "outputs": []
    }
  ]
}