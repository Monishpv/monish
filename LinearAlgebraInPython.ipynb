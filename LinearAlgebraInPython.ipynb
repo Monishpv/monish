{
  "nbformat": 4,
  "nbformat_minor": 0,
  "metadata": {
    "colab": {
      "provenance": [],
      "authorship_tag": "ABX9TyOwpZYwEmNczrVoB2T1hqyO",
      "include_colab_link": true
    },
    "kernelspec": {
      "name": "python3",
      "display_name": "Python 3"
    },
    "language_info": {
      "name": "python"
    }
  },
  "cells": [
    {
      "cell_type": "markdown",
      "metadata": {
        "id": "view-in-github",
        "colab_type": "text"
      },
      "source": [
        "<a href=\"https://colab.research.google.com/github/Monishpv/monish/blob/main/LinearAlgebraInPython.ipynb\" target=\"_parent\"><img src=\"https://colab.research.google.com/assets/colab-badge.svg\" alt=\"Open In Colab\"/></a>"
      ]
    },
    {
      "cell_type": "markdown",
      "source": [
        "Creating a matrix using array"
      ],
      "metadata": {
        "id": "Wrej4WWZBmTh"
      }
    },
    {
      "cell_type": "code",
      "execution_count": 1,
      "metadata": {
        "colab": {
          "base_uri": "https://localhost:8080/"
        },
        "id": "to44oTrtBfg3",
        "outputId": "52b3c263-d196-4f3a-e4e4-5191ce57dd14"
      },
      "outputs": [
        {
          "output_type": "stream",
          "name": "stdout",
          "text": [
            "A=\n",
            "[[ 1  3  7  2]\n",
            " [ 5  8 -9  0]\n",
            " [ 6 -7 11 12]]\n",
            "Transpose of A=\n",
            "[[ 1  5  6]\n",
            " [ 3  8 -7]\n",
            " [ 7 -9 11]\n",
            " [ 2  0 12]]\n",
            "B=\n",
            "[[1 5]\n",
            " [4 5]\n",
            " [3 2]\n",
            " [7 8]]\n",
            "Transpose of B=\n",
            "[[1 4 3 7]\n",
            " [5 5 2 8]]\n"
          ]
        }
      ],
      "source": [
        "import numpy as np\n",
        "A = np.array([[1, 3, 7, 2],\n",
        "             [5, 8, -9, 0],\n",
        "           [6, -7, 11, 12]])\n",
        "print(\"A=\"); print(A)\n",
        "Atr = np.transpose(A)\n",
        "print(\"Transpose of A=\"); print(Atr)\n",
        "B = np.array([ [1, 5],\n",
        "              [4, 5],\n",
        "              [3, 2],\n",
        "              [7, 8]])\n",
        "print(\"B=\"); print(B)\n",
        "Btr = np.transpose(B)\n",
        "print(\"Transpose of B=\"); print(Btr)"
      ]
    },
    {
      "cell_type": "markdown",
      "source": [
        "Matrix operations"
      ],
      "metadata": {
        "id": "xOWd27WABy0I"
      }
    },
    {
      "cell_type": "code",
      "source": [
        "import numpy as np\n",
        "A = np.matrix([[0, 1],\n",
        "            [-2, -3]])\n",
        "B = np.matrix([[1, 0],\n",
        "             [3, -2]])\n",
        "C = A + B\n",
        "print(\"A+B =\", C)\n",
        "C = A - B\n",
        "print(\"A-B =\", C)\n",
        "C = A * B\n",
        "print(\"A*B =\", C)"
      ],
      "metadata": {
        "colab": {
          "base_uri": "https://localhost:8080/"
        },
        "id": "arTbTKdlB-60",
        "outputId": "23345b0b-9b52-457b-c07b-13b5de44a7a7"
      },
      "execution_count": 2,
      "outputs": [
        {
          "output_type": "stream",
          "name": "stdout",
          "text": [
            "A+B = [[ 1  1]\n",
            " [ 1 -5]]\n",
            "A-B = [[-1  1]\n",
            " [-5 -1]]\n",
            "A*B = [[  3  -2]\n",
            " [-11   6]]\n"
          ]
        }
      ]
    },
    {
      "cell_type": "markdown",
      "source": [
        "Matrix Multiplication"
      ],
      "metadata": {
        "id": "6mpzzYHSCB1T"
      }
    },
    {
      "cell_type": "code",
      "source": [
        "import numpy as np\n",
        "A = np.array([[1, 5, 3],\n",
        "              [4, 6, 6],\n",
        "              [3, 8, 9]])\n",
        "B = np.array([[1, 5, 3, 4],\n",
        "              [4, 5, 7, 8],\n",
        "              [7, 8, 9, 3]])\n",
        "C = np.array([[1],\n",
        "              [4],\n",
        "             [3]])\n",
        "D = np.array([[1, 5, 3]])\n",
        "M = np.matmul(A,B)\n",
        "print(\"M=\", M)\n",
        "#M = np.matmul(B,A) # Not Working!\n",
        "M = np.matmul(A,C)\n",
        "print(\"M=\", M)\n",
        "#M = np.matmul(C,A) # Not Working!\n",
        "M = np.matmul(C,D)\n",
        "print(\"M=\", M)\n",
        "M = np.matmul(D,C)\n",
        "print(\"M=\", M)"
      ],
      "metadata": {
        "colab": {
          "base_uri": "https://localhost:8080/"
        },
        "id": "baAcj_TACYEv",
        "outputId": "f12aff38-e758-4d6f-a284-72ebec511f17"
      },
      "execution_count": 3,
      "outputs": [
        {
          "output_type": "stream",
          "name": "stdout",
          "text": [
            "M= [[ 42  54  65  53]\n",
            " [ 70  98 108  82]\n",
            " [ 98 127 146 103]]\n",
            "M= [[30]\n",
            " [46]\n",
            " [62]]\n",
            "M= [[ 1  5  3]\n",
            " [ 4 20 12]\n",
            " [ 3 15  9]]\n",
            "M= [[30]]\n"
          ]
        }
      ]
    },
    {
      "cell_type": "markdown",
      "source": [
        "Transpose Of a Matrix"
      ],
      "metadata": {
        "id": "lZGxa1fiCyGv"
      }
    },
    {
      "cell_type": "code",
      "source": [
        "import numpy as np\n",
        "A = np.array([[1, 3, 7, 2],\n",
        "             [5, 8, -9, 0],\n",
        "           [6, -7, 11, 12]])\n",
        "print(\"A=\"); print(A)\n",
        "Atr = np.transpose(A)\n",
        "print(\"Transpose of A=\"); print(Atr)\n",
        "B = np.array([ [1, 5],\n",
        "              [4, 5],\n",
        "              [3, 2],\n",
        "              [7, 8]])\n",
        "print(\"B=\"); print(B)\n",
        "Btr = np.transpose(B)\n",
        "print(\"Transpose of B=\"); print(Btr)"
      ],
      "metadata": {
        "colab": {
          "base_uri": "https://localhost:8080/"
        },
        "id": "TuGilshCCtC5",
        "outputId": "dc4fca05-246b-45a7-8dd4-8313de2a35d0"
      },
      "execution_count": 4,
      "outputs": [
        {
          "output_type": "stream",
          "name": "stdout",
          "text": [
            "A=\n",
            "[[ 1  3  7  2]\n",
            " [ 5  8 -9  0]\n",
            " [ 6 -7 11 12]]\n",
            "Transpose of A=\n",
            "[[ 1  5  6]\n",
            " [ 3  8 -7]\n",
            " [ 7 -9 11]\n",
            " [ 2  0 12]]\n",
            "B=\n",
            "[[1 5]\n",
            " [4 5]\n",
            " [3 2]\n",
            " [7 8]]\n",
            "Transpose of B=\n",
            "[[1 4 3 7]\n",
            " [5 5 2 8]]\n"
          ]
        }
      ]
    },
    {
      "cell_type": "markdown",
      "source": [
        "Determinant Of a Matrix"
      ],
      "metadata": {
        "id": "HvloOUP6DFXv"
      }
    },
    {
      "cell_type": "code",
      "source": [
        "import numpy as np\n",
        "import numpy.linalg as la\n",
        "A = np.array([[1, 2],\n",
        "             [3, 4]])\n",
        "Adet = la.det(A)\n",
        "print(Adet)\n",
        "B = np.array([[-1, 3, 0],\n",
        "              [2, 1, -5],\n",
        "             [1, 4, -2]])\n",
        "Bdet = la.det(B)\n",
        "print(Bdet)"
      ],
      "metadata": {
        "colab": {
          "base_uri": "https://localhost:8080/"
        },
        "id": "DLwKeKn9DKok",
        "outputId": "25521d44-dcda-4c8d-9cea-0d6173f3d46a"
      },
      "execution_count": 5,
      "outputs": [
        {
          "output_type": "stream",
          "name": "stdout",
          "text": [
            "-2.0000000000000004\n",
            "-21.00000000000001\n"
          ]
        }
      ]
    },
    {
      "cell_type": "markdown",
      "source": [
        "Inverse Of a Matrix"
      ],
      "metadata": {
        "id": "zbR88UPwDW78"
      }
    },
    {
      "cell_type": "code",
      "source": [
        "import numpy as np\n",
        "import numpy.linalg as la\n",
        "A = np.array([[1, 2],\n",
        "             [3, 4]])\n",
        "Ainv = la.inv(A)\n",
        "print(Ainv)\n",
        "B = np.array([[-1, 3, 0],\n",
        "              [2, 1, -5],\n",
        "             [1, 4, -2]])\n",
        "Binv = la.inv(B)\n",
        "print(Binv)"
      ],
      "metadata": {
        "colab": {
          "base_uri": "https://localhost:8080/"
        },
        "id": "wjYIPDuFDa8M",
        "outputId": "0618ab05-60f9-49e4-8889-beee38016c79"
      },
      "execution_count": 6,
      "outputs": [
        {
          "output_type": "stream",
          "name": "stdout",
          "text": [
            "[[-2.   1. ]\n",
            " [ 1.5 -0.5]]\n",
            "[[-0.85714286 -0.28571429  0.71428571]\n",
            " [ 0.04761905 -0.0952381   0.23809524]\n",
            " [-0.33333333 -0.33333333  0.33333333]]\n"
          ]
        }
      ]
    },
    {
      "cell_type": "markdown",
      "source": [
        "Eigen Values"
      ],
      "metadata": {
        "id": "yHAaxi2aDh9u"
      }
    },
    {
      "cell_type": "code",
      "source": [
        "import numpy as np\n",
        "import numpy.linalg as la\n",
        "A = np.array([[0, 1],\n",
        "           [-2, -3]])\n",
        "Aeig, v = la.eig(A)\n",
        "print(Aeig)"
      ],
      "metadata": {
        "colab": {
          "base_uri": "https://localhost:8080/"
        },
        "id": "Nc7OwLtwDiZY",
        "outputId": "ff4fe39e-d72a-4e72-c2ae-9beb67777abd"
      },
      "execution_count": 7,
      "outputs": [
        {
          "output_type": "stream",
          "name": "stdout",
          "text": [
            "[-1. -2.]\n"
          ]
        }
      ]
    },
    {
      "cell_type": "markdown",
      "source": [
        "Solving Linear Equations"
      ],
      "metadata": {
        "id": "5DQZvrb-DjuW"
      }
    },
    {
      "cell_type": "code",
      "source": [
        "import numpy as np\n",
        "import numpy.linalg as la\n",
        "A = np.array([[1, 2],\n",
        "             [3, 4]])\n",
        "b = np.array([[5],\n",
        "             [6]])\n",
        "Ainv = la.inv(A)\n",
        "x = Ainv.dot(b)\n",
        "print(x)"
      ],
      "metadata": {
        "colab": {
          "base_uri": "https://localhost:8080/"
        },
        "id": "p2Qb395kDjAI",
        "outputId": "442b382d-5f08-4e08-cbce-34643ea0ac8f"
      },
      "execution_count": 8,
      "outputs": [
        {
          "output_type": "stream",
          "name": "stdout",
          "text": [
            "[[-4. ]\n",
            " [ 4.5]]\n"
          ]
        }
      ]
    },
    {
      "cell_type": "markdown",
      "source": [
        "2nd method for solving"
      ],
      "metadata": {
        "id": "qaJTn0jVEtjn"
      }
    },
    {
      "cell_type": "code",
      "source": [
        "x = np.linalg.solve(A,b)\n",
        "print(x)"
      ],
      "metadata": {
        "colab": {
          "base_uri": "https://localhost:8080/"
        },
        "id": "7h_7ZLV_EJfN",
        "outputId": "9e6e53d7-fc54-48b2-8a91-e62ea9626961"
      },
      "execution_count": 11,
      "outputs": [
        {
          "output_type": "stream",
          "name": "stdout",
          "text": [
            "[[-4. ]\n",
            " [ 4.5]]\n"
          ]
        }
      ]
    }
  ]
}